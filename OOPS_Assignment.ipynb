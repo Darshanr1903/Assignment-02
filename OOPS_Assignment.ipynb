{
  "nbformat": 4,
  "nbformat_minor": 0,
  "metadata": {
    "colab": {
      "provenance": []
    },
    "kernelspec": {
      "name": "python3",
      "display_name": "Python 3"
    },
    "language_info": {
      "name": "python"
    }
  },
  "cells": [
    {
      "cell_type": "markdown",
      "source": [
        "Question 1)Importance of function\n",
        "->It helps in making code clean\n",
        "->Reusablity\n",
        "->Improve's code readability"
      ],
      "metadata": {
        "id": "wYCR50BwVLk4"
      }
    },
    {
      "cell_type": "markdown",
      "source": [
        "Question 2) Function to greet students"
      ],
      "metadata": {
        "id": "jpZhzWz3WU4S"
      }
    },
    {
      "cell_type": "code",
      "source": [
        "def greet():\n",
        "  print(\"Good,morning students\")\n",
        "greet()"
      ],
      "metadata": {
        "colab": {
          "base_uri": "https://localhost:8080/"
        },
        "id": "apgHd9oMVXer",
        "outputId": "daa590a0-7f4b-41a1-c739-3aa978217881"
      },
      "execution_count": null,
      "outputs": [
        {
          "output_type": "stream",
          "name": "stdout",
          "text": [
            "Good,morning students\n"
          ]
        }
      ]
    },
    {
      "cell_type": "markdown",
      "source": [
        "Question 3)\n",
        "           *Print                           ->Return\n",
        "\n",
        "*   It can't be stored            ->Value that is returned can be stored\n",
        "*   It can be used anywhere       ->It is used to return something from function\n",
        "*   function doesn't terminate    ->function is terminates after use of return\n",
        "    after print\n",
        "*   \n",
        "\n",
        "\n",
        "\n"
      ],
      "metadata": {
        "id": "kE1t4AF4XkEo"
      }
    },
    {
      "cell_type": "markdown",
      "source": [],
      "metadata": {
        "id": "5-holUokZE_R"
      }
    },
    {
      "cell_type": "markdown",
      "source": [
        "Question 4) *args and **kwargs\n",
        "-> *args are variable length arguments\n",
        "->**kwargs are key:value pair arguments"
      ],
      "metadata": {
        "id": "in_3GeH5ZV89"
      }
    },
    {
      "cell_type": "markdown",
      "source": [],
      "metadata": {
        "id": "Z2aRs-4JZ83h"
      }
    },
    {
      "cell_type": "markdown",
      "source": [
        "Question 5) Iterator is an object that iterates over an iterable object"
      ],
      "metadata": {
        "id": "3HA7igJ_aJCK"
      }
    },
    {
      "cell_type": "markdown",
      "source": [
        "Question 6)Code that genarates square of a number using generator function"
      ],
      "metadata": {
        "id": "JStCRo4Xam-M"
      }
    },
    {
      "cell_type": "code",
      "source": [
        "def square_number(n):\n",
        "  for i in range(1,n+1):\n",
        "    yield i**2\n",
        "a=square_number(5)\n",
        "next(a)\n",
        "next(a)\n",
        "next(a)"
      ],
      "metadata": {
        "colab": {
          "base_uri": "https://localhost:8080/"
        },
        "id": "NefU5H-bbEbw",
        "outputId": "63c0b314-b306-455a-9e31-c99c8c160472"
      },
      "execution_count": null,
      "outputs": [
        {
          "output_type": "execute_result",
          "data": {
            "text/plain": [
              "9"
            ]
          },
          "metadata": {},
          "execution_count": 5
        }
      ]
    },
    {
      "cell_type": "markdown",
      "source": [
        "Question 7)Code that genarates palindrome number using generator function"
      ],
      "metadata": {
        "id": "QHJxcXXLbkQb"
      }
    },
    {
      "cell_type": "code",
      "source": [
        "def palindrome(n):\n",
        "  for i in range(n+1):\n",
        "    k=i\n",
        "    sum=0\n",
        "    while(k>0):\n",
        "      sum=sum*10+k%10\n",
        "      k=int(k/10)\n",
        "    if sum==i:\n",
        "      yield i\n",
        "a=palindrome(15)\n",
        "next(a)"
      ],
      "metadata": {
        "colab": {
          "base_uri": "https://localhost:8080/"
        },
        "id": "CRMZkvTyb9ic",
        "outputId": "87b0a892-1b27-4e74-c389-67db4bde4f33"
      },
      "execution_count": null,
      "outputs": [
        {
          "output_type": "execute_result",
          "data": {
            "text/plain": [
              "11"
            ]
          },
          "metadata": {},
          "execution_count": 33
        }
      ]
    },
    {
      "cell_type": "markdown",
      "source": [
        "Question 8) code to generate even numbers using genarator function"
      ],
      "metadata": {
        "id": "qj1HwmXknHT0"
      }
    },
    {
      "cell_type": "code",
      "source": [
        "def even_num(n):\n",
        "  for i in range(1,n):\n",
        "    if i%2==0:\n",
        "      yield i\n",
        "a=even_num(5)\n",
        "next(a)\n",
        "next(a)"
      ],
      "metadata": {
        "colab": {
          "base_uri": "https://localhost:8080/"
        },
        "id": "Lt2xlBhEnRnF",
        "outputId": "1308bee2-4c93-4e30-c385-d75315106f66"
      },
      "execution_count": null,
      "outputs": [
        {
          "output_type": "execute_result",
          "data": {
            "text/plain": [
              "4"
            ]
          },
          "metadata": {},
          "execution_count": 30
        }
      ]
    },
    {
      "cell_type": "markdown",
      "source": [
        "Question 9) Generate power of 2"
      ],
      "metadata": {
        "id": "nXpZU8QYoUVF"
      }
    },
    {
      "cell_type": "code",
      "source": [
        "def Power_2(n):\n",
        "  for i in range(n):\n",
        "    yield 2**i\n",
        "a=Power_2(4)\n",
        "next(a)\n",
        "next(a)\n"
      ],
      "metadata": {
        "colab": {
          "base_uri": "https://localhost:8080/"
        },
        "id": "pg6cTV1roZbx",
        "outputId": "9b9bf39e-0485-445c-d135-4617de65dbd5"
      },
      "execution_count": null,
      "outputs": [
        {
          "output_type": "execute_result",
          "data": {
            "text/plain": [
              "2"
            ]
          },
          "metadata": {},
          "execution_count": 40
        }
      ]
    },
    {
      "cell_type": "markdown",
      "source": [
        "Question 10)Prime number generator"
      ],
      "metadata": {
        "id": "YrXfahbQo8QI"
      }
    },
    {
      "cell_type": "code",
      "source": [
        "def prime(n):\n",
        "  for i in range(2,n+1):\n",
        "    count=0\n",
        "    for j in range(2,i):\n",
        "      if i%j==0:\n",
        "        count+=1\n",
        "    if count==0:\n",
        "      yield i\n",
        "a=prime(11)\n",
        "next(a)\n",
        "next(a)\n",
        "next(a)\n",
        "next(a)\n",
        "next(a)"
      ],
      "metadata": {
        "colab": {
          "base_uri": "https://localhost:8080/"
        },
        "id": "6diuExXBpCXA",
        "outputId": "f1a41da5-9226-45b2-afbe-3dcda85607be"
      },
      "execution_count": null,
      "outputs": [
        {
          "output_type": "execute_result",
          "data": {
            "text/plain": [
              "11"
            ]
          },
          "metadata": {},
          "execution_count": 46
        }
      ]
    },
    {
      "cell_type": "markdown",
      "source": [
        "Question 11) sum of 2 numbers using lambda function"
      ],
      "metadata": {
        "id": "DS98LpF9qCcH"
      }
    },
    {
      "cell_type": "code",
      "source": [
        "add=(lambda x,y:x+y)\n",
        "add(3,4)"
      ],
      "metadata": {
        "colab": {
          "base_uri": "https://localhost:8080/"
        },
        "id": "wTlCLbMzrpc9",
        "outputId": "72cba217-1352-4032-835f-50527478c019"
      },
      "execution_count": null,
      "outputs": [
        {
          "output_type": "execute_result",
          "data": {
            "text/plain": [
              "7"
            ]
          },
          "metadata": {},
          "execution_count": 48
        }
      ]
    },
    {
      "cell_type": "markdown",
      "source": [
        "Question 12) square of a number using lambda function"
      ],
      "metadata": {
        "id": "aCgUQEB1sDR0"
      }
    },
    {
      "cell_type": "code",
      "source": [
        "square=lambda x:x**2\n",
        "square(5)"
      ],
      "metadata": {
        "colab": {
          "base_uri": "https://localhost:8080/"
        },
        "id": "xSbAGBPcsNXE",
        "outputId": "9b822739-eba5-4777-986c-52016ee5b712"
      },
      "execution_count": null,
      "outputs": [
        {
          "output_type": "execute_result",
          "data": {
            "text/plain": [
              "25"
            ]
          },
          "metadata": {},
          "execution_count": 49
        }
      ]
    },
    {
      "cell_type": "markdown",
      "source": [
        "Question 13) lambda function to check even or odd"
      ],
      "metadata": {
        "id": "u03OQNPusYK0"
      }
    },
    {
      "cell_type": "code",
      "source": [
        "even_odd=lambda x:print(\"even\") if x%2==0 else print(\"odd\")\n",
        "even_odd(10)\n",
        "even_odd(1)\n"
      ],
      "metadata": {
        "colab": {
          "base_uri": "https://localhost:8080/"
        },
        "id": "v7O36XZQsqCg",
        "outputId": "72ac60e8-125c-483d-ac5d-3ede88f9a380"
      },
      "execution_count": null,
      "outputs": [
        {
          "output_type": "stream",
          "name": "stdout",
          "text": [
            "even\n",
            "odd\n"
          ]
        }
      ]
    },
    {
      "cell_type": "markdown",
      "source": [
        "Question 15) lambda function to concatinate 2 strings"
      ],
      "metadata": {
        "id": "LosOLVDrtH8k"
      }
    },
    {
      "cell_type": "code",
      "source": [
        "concat=lambda s1,s2:s1+s2\n",
        "concat(\"dars\",\"han R\")"
      ],
      "metadata": {
        "colab": {
          "base_uri": "https://localhost:8080/",
          "height": 36
        },
        "id": "ddHxQtxctUqg",
        "outputId": "23245feb-66bd-46ec-b844-7c9cb73fc42f"
      },
      "execution_count": null,
      "outputs": [
        {
          "output_type": "execute_result",
          "data": {
            "text/plain": [
              "'darshan R'"
            ],
            "application/vnd.google.colaboratory.intrinsic+json": {
              "type": "string"
            }
          },
          "metadata": {},
          "execution_count": 52
        }
      ]
    },
    {
      "cell_type": "markdown",
      "source": [
        "Question 16) lambda function to find max of 3 numbers"
      ],
      "metadata": {
        "id": "uGcQIe7SHjrP"
      }
    },
    {
      "cell_type": "code",
      "source": [
        "x=lambda x,y,z:x if x>=y and x>=z else y if y>=x and y>=z else z\n",
        "x(1,2,2)"
      ],
      "metadata": {
        "colab": {
          "base_uri": "https://localhost:8080/"
        },
        "id": "KamQoB6QIF0h",
        "outputId": "8d7b8c24-6006-453e-9524-3b8d4bb0ac67"
      },
      "execution_count": null,
      "outputs": [
        {
          "output_type": "execute_result",
          "data": {
            "text/plain": [
              "2"
            ]
          },
          "metadata": {},
          "execution_count": 4
        }
      ]
    },
    {
      "cell_type": "markdown",
      "source": [
        "Question 17) code that generates square of a number in list"
      ],
      "metadata": {
        "id": "-fmPH2AKJdr3"
      }
    },
    {
      "cell_type": "code",
      "source": [
        "l=[1,2,3,4,5]\n",
        "for i in l:\n",
        "  if i%2==0:\n",
        "    print(i**2)"
      ],
      "metadata": {
        "colab": {
          "base_uri": "https://localhost:8080/"
        },
        "id": "KVl3s3O0JrrR",
        "outputId": "9290639f-ed16-4960-d80a-c40b861da0e7"
      },
      "execution_count": null,
      "outputs": [
        {
          "output_type": "stream",
          "name": "stdout",
          "text": [
            "4\n",
            "16\n"
          ]
        }
      ]
    },
    {
      "cell_type": "markdown",
      "source": [
        "Question 18) product of positive numbers in the list"
      ],
      "metadata": {
        "id": "vHWkmkCnKpCF"
      }
    },
    {
      "cell_type": "code",
      "source": [
        "l=[-1,2,-3,-3,-4,5,-6,7]\n",
        "product=1\n",
        "for i in l:\n",
        "  if i>0:\n",
        "    product*=i\n",
        "print(product)"
      ],
      "metadata": {
        "colab": {
          "base_uri": "https://localhost:8080/"
        },
        "id": "JEl69qnRK7vw",
        "outputId": "f1dd1de7-8550-44c4-a733-2c4711f6eb65"
      },
      "execution_count": null,
      "outputs": [
        {
          "output_type": "stream",
          "name": "stdout",
          "text": [
            "70\n"
          ]
        }
      ]
    },
    {
      "cell_type": "markdown",
      "source": [
        "question 19) code that doubles the odd number in the list"
      ],
      "metadata": {
        "id": "RXSGPpbGLUwD"
      }
    },
    {
      "cell_type": "code",
      "source": [
        "l=[1,2,3,4,5,6]\n",
        "for i in l:\n",
        "  if i%2!=0:\n",
        "    l[l.index(i)]=i*2\n",
        "print(l)"
      ],
      "metadata": {
        "colab": {
          "base_uri": "https://localhost:8080/"
        },
        "id": "RYoATOAKMHVW",
        "outputId": "9529471e-9df2-4e6e-96f0-c1ffb241af42"
      },
      "execution_count": null,
      "outputs": [
        {
          "output_type": "stream",
          "name": "stdout",
          "text": [
            "[2, 2, 6, 4, 10, 6]\n"
          ]
        }
      ]
    },
    {
      "cell_type": "markdown",
      "source": [
        "question 20) code that calculate sum of cubes of numbers from list"
      ],
      "metadata": {
        "id": "YRBtjWmZMj3h"
      }
    },
    {
      "cell_type": "code",
      "source": [
        "l=[1,2,3,4,5]\n",
        "sum=0\n",
        "for i in l:\n",
        "  sum+=i**3\n",
        "print(sum)"
      ],
      "metadata": {
        "colab": {
          "base_uri": "https://localhost:8080/"
        },
        "id": "dtAsHHt5M46-",
        "outputId": "8f96fc69-9f9d-4158-e28e-9f07ae990550"
      },
      "execution_count": null,
      "outputs": [
        {
          "output_type": "stream",
          "name": "stdout",
          "text": [
            "225\n"
          ]
        }
      ]
    },
    {
      "cell_type": "markdown",
      "source": [
        "Question 21) code to filter prime number from list"
      ],
      "metadata": {
        "id": "ouimlE0oNJjP"
      }
    },
    {
      "cell_type": "code",
      "source": [
        "def isprime(n):\n",
        "  count=0\n",
        "  for i in range(2,n-1):\n",
        "    if n%i==0:\n",
        "      count+=1\n",
        "      break\n",
        "  if count>0:\n",
        "    return False\n",
        "  else:\n",
        "    return True\n",
        "l=[1,2,3,5,7,12,23]\n",
        "for i in l:\n",
        "  if isprime(i) and i!=1:\n",
        "    print(i)"
      ],
      "metadata": {
        "colab": {
          "base_uri": "https://localhost:8080/"
        },
        "id": "NOva2t4aNT29",
        "outputId": "3b701d24-9d13-42dc-c03a-ac8836168c8c"
      },
      "execution_count": null,
      "outputs": [
        {
          "output_type": "stream",
          "name": "stdout",
          "text": [
            "2\n",
            "3\n",
            "5\n",
            "7\n",
            "23\n"
          ]
        }
      ]
    },
    {
      "cell_type": "markdown",
      "source": [
        "Question 22) This question is same as 11 question"
      ],
      "metadata": {
        "id": "HzqWw7M1PhT3"
      }
    },
    {
      "cell_type": "markdown",
      "source": [
        "Question 23) This question is same as 12th Question"
      ],
      "metadata": {
        "id": "FT-4CtKKPx7a"
      }
    },
    {
      "cell_type": "markdown",
      "source": [
        "Questions till 26 the question are repeted"
      ],
      "metadata": {
        "id": "c60p-XNqQEb7"
      }
    },
    {
      "cell_type": "markdown",
      "source": [
        "Question 27) What is encapsulation in oops\n",
        "Ans It is practise of bundling of data and methods in class it also decides the access limit of this methods and the data"
      ],
      "metadata": {
        "id": "MalOSgOSQi_v"
      }
    },
    {
      "cell_type": "markdown",
      "source": [
        "Question 28) Access modifiers\n",
        "Ans-> Their are 3 access modifiers\n",
        "\n",
        "*   public ->this allows data to be accessed from outside and can also change the value\n",
        "*   private->this methods and data cant have direct access outside the class until and unless you have coded the class or from getters and setters\n",
        "*   protected->this almost similiar to private but this can be accessed from subclass also\n",
        "\n",
        "\n",
        "\n",
        "\n",
        "\n"
      ],
      "metadata": {
        "id": "os-lmh9URVgM"
      }
    },
    {
      "cell_type": "markdown",
      "source": [
        "Question 29) Inheritance talks about the access of parent class from the child class all methods and attributes of parent class can be accessed from the child class"
      ],
      "metadata": {
        "id": "9wqOtICTTVjI"
      }
    },
    {
      "cell_type": "markdown",
      "source": [
        "Question 30)Polymorphism:-polymorphisms refer to the occurrence of something in multiple forms. As part of polymorphism, a Python child class has methods with the same name as a parent class method\n",
        "\n"
      ],
      "metadata": {
        "id": "rmb3qMG5TvSZ"
      }
    },
    {
      "cell_type": "markdown",
      "source": [],
      "metadata": {
        "id": "HaCTWD_oAK_q"
      }
    },
    {
      "cell_type": "markdown",
      "source": [
        "Question 31) Overriding in python:-if from child class if you call method having same name and also present in both both classes then child class method will be executed this is reffered as method overriding"
      ],
      "metadata": {
        "id": "Z-L3O-PYAbp2"
      }
    },
    {
      "cell_type": "markdown",
      "source": [
        "Question 32 and 33 and 36) Basics about class"
      ],
      "metadata": {
        "id": "ySUeIHOvBSEz"
      }
    },
    {
      "cell_type": "code",
      "source": [
        "class Animal:\n",
        "   def __init__(self,name):\n",
        "    self.name=name\n",
        "   def make_sounds(self):\n",
        "    print(\"generic sound\")\n",
        "   def moves(self):\n",
        "    print(\"animal moves\")\n",
        "class Dog(Animal):\n",
        "  def __init__(self,dog_name,age):\n",
        "    self.dog_name=dog_name\n",
        "    self.age=age\n",
        "  def make_sounds(self):\n",
        "    print(\"woof\")\n",
        "  def moves(self):\n",
        "    print(\"dog runs\")\n",
        "golden_retriver=Dog(\"ruby\",12)\n",
        "golden_retriver.make_sounds()\n",
        "golden_retriver.moves()#metod overriding"
      ],
      "metadata": {
        "colab": {
          "base_uri": "https://localhost:8080/"
        },
        "id": "mjW6ecDPBiCB",
        "outputId": "910594e0-05e6-4a19-cbd8-c7d4a6c62430"
      },
      "execution_count": null,
      "outputs": [
        {
          "output_type": "stream",
          "name": "stdout",
          "text": [
            "woof\n",
            "dog runs\n"
          ]
        }
      ]
    },
    {
      "cell_type": "markdown",
      "source": [
        "Question 34) Multilevel inheritence"
      ],
      "metadata": {
        "id": "LeMoGYjjCQPK"
      }
    },
    {
      "cell_type": "code",
      "source": [
        "class Mammal:\n",
        "  def reproduce(self):\n",
        "    print(\"give birth to young ones\")\n",
        "class DogMammal(Dog,Mammal):\n",
        "   def about(self):\n",
        "    print(\" dog is inherited from both mammal and dog class\")"
      ],
      "metadata": {
        "id": "pVjzh0H5DDI-"
      },
      "execution_count": null,
      "outputs": []
    },
    {
      "cell_type": "markdown",
      "source": [
        "Question 35) method overriding"
      ],
      "metadata": {
        "id": "uUEe2yD9Dz9t"
      }
    },
    {
      "cell_type": "code",
      "source": [
        "class GermanSheperd(Dog):\n",
        "  def make_sounds(self):\n",
        "    print(\"Bark!\")\n",
        "ruby=GermanSheperd()\n",
        "ruby.make_sounds()"
      ],
      "metadata": {
        "colab": {
          "base_uri": "https://localhost:8080/"
        },
        "id": "2qo2LgBBEOOG",
        "outputId": "5d05f3b8-bee7-40d6-d7f5-7312f6b08e53"
      },
      "execution_count": null,
      "outputs": [
        {
          "output_type": "stream",
          "name": "stdout",
          "text": [
            "Bark!\n"
          ]
        }
      ]
    },
    {
      "cell_type": "markdown",
      "source": [
        "Question 37) what is abstraction and its implementation\n",
        "Abstraction:-it is a concept of hiding complex and unnecessary implementation\n",
        "method of implementation is by importing abc"
      ],
      "metadata": {
        "id": "dxgc7nrzIcQk"
      }
    },
    {
      "cell_type": "markdown",
      "source": [
        "Question 38)Importance of abstraction\n",
        "1) user friendly\n",
        "2)user is not confuced with unnecessary information"
      ],
      "metadata": {
        "id": "RVPxpgVhJFV5"
      }
    },
    {
      "cell_type": "markdown",
      "source": [
        "Question 39)real methods and abstract methods\n",
        "real methods can be used as it is in child class while abstract method need to be implemented in child class"
      ],
      "metadata": {
        "id": "_pBiK30cJtlO"
      }
    },
    {
      "cell_type": "markdown",
      "source": [
        "Question 40) Implementation of abstract class\n",
        "![Screenshot 2024-10-02 133312.png]()"
      ],
      "metadata": {
        "id": "KqxBQnEsMhA-"
      }
    },
    {
      "cell_type": "markdown",
      "source": [],
      "metadata": {
        "id": "ISv6_VbUQpDc"
      }
    },
    {
      "cell_type": "markdown",
      "source": [
        "Question 41)"
      ],
      "metadata": {
        "id": "sYThD7csQrlb"
      }
    },
    {
      "cell_type": "code",
      "source": [
        "from abc import ABC,abstractmethod\n",
        "class calculation(ABC):\n",
        "  def pri(self,x):\n",
        "    print(\"passed value : \",x)\n",
        "  @abstractmethod\n",
        "  def calculation1(self):\n",
        "    pass\n",
        "class Addition(calculation):\n",
        "  def calculation1(self,x,y):\n",
        "    print(\"we are inside addition calculation \")\n",
        "    return x+y\n",
        "\n",
        "add=Addition()\n",
        "add.calculation1(2,3)"
      ],
      "metadata": {
        "colab": {
          "base_uri": "https://localhost:8080/"
        },
        "id": "WAgKvcAtQ410",
        "outputId": "f6c27422-b165-45e2-a76c-8c906576dd2c"
      },
      "execution_count": null,
      "outputs": [
        {
          "output_type": "stream",
          "name": "stdout",
          "text": [
            "we are inside addition calculation \n"
          ]
        },
        {
          "output_type": "execute_result",
          "data": {
            "text/plain": [
              "5"
            ]
          },
          "metadata": {},
          "execution_count": 13
        }
      ]
    },
    {
      "cell_type": "markdown",
      "source": [
        "Question 42) method overriding:-when both parent class and child class have method by same name then child class method will be executed this how polymorphism is achieved by method overriding"
      ],
      "metadata": {
        "id": "gqtc9c4WoCgd"
      }
    },
    {
      "cell_type": "markdown",
      "source": [
        "Question 43 and 44)"
      ],
      "metadata": {
        "id": "mmBvH0eboiyD"
      }
    },
    {
      "cell_type": "code",
      "source": [
        "class Animal:\n",
        "  def sounds(self):\n",
        "    print(\"sound made by animals\")\n",
        "class Cat(Animal):\n",
        "  def sounds(self):\n",
        "    print(\"meows\")\n",
        "class Tiger(Cat):\n",
        "  def sounds(self):\n",
        "    print(\"roars\")\n",
        "t1=Tiger()\n",
        "t1.sounds()"
      ],
      "metadata": {
        "colab": {
          "base_uri": "https://localhost:8080/"
        },
        "id": "wfDao3oWpVL3",
        "outputId": "db2a120a-15bd-42e9-e9e1-802e8b2e6fc2"
      },
      "execution_count": null,
      "outputs": [
        {
          "output_type": "stream",
          "name": "stdout",
          "text": [
            "roars\n"
          ]
        }
      ]
    },
    {
      "cell_type": "markdown",
      "source": [
        "Question 46)Duck typing is a concept related to dynamic typing where the type or the class of an object is less important than the methods it defines.when you use the duck typing you do not check type at all you check for the precence of the given method"
      ],
      "metadata": {
        "id": "-AacxEcDqsFn"
      }
    },
    {
      "cell_type": "code",
      "source": [
        "class Duck:\n",
        "  def sounds(self):\n",
        "    print(\"quack quack\")\n",
        "class Dog:\n",
        "  def sounds(self):\n",
        "    print(\"wofh wofh\")\n",
        "class cat:\n",
        "  def sounds(self):\n",
        "    print(\"meow meow\")\n",
        "def all_sounds(obj):\n",
        "  obj.sounds()\n",
        "d=Duck()\n",
        "c=cat()\n",
        "dg=Dog()\n",
        "\n",
        "all_sounds(d)\n",
        "all_sounds(c)\n",
        "all_sounds(dg)\n"
      ],
      "metadata": {
        "colab": {
          "base_uri": "https://localhost:8080/"
        },
        "id": "U_CyA-x_-OjA",
        "outputId": "968b2006-76a6-4ff0-c1db-94c10aa985e3"
      },
      "execution_count": null,
      "outputs": [
        {
          "output_type": "stream",
          "name": "stdout",
          "text": [
            "quack quack\n",
            "meow meow\n",
            "wofh wofh\n"
          ]
        }
      ]
    },
    {
      "cell_type": "markdown",
      "source": [
        "Question 47)Encapsulation in python can be achieved using access modifiers use of double underscore to make method or attributes to make it private which can be accessed inside the class only and use of single underscore to make it private"
      ],
      "metadata": {
        "id": "EteezuSKAY9H"
      }
    },
    {
      "cell_type": "markdown",
      "source": [
        "Question 48) Yes encapsulation can be bypassed in python only if you are the devloper example is shoen in below code"
      ],
      "metadata": {
        "id": "GFqKzS4rDLBc"
      }
    },
    {
      "cell_type": "code",
      "source": [
        "class school:\n",
        "  def __init__(self,name):\n",
        "    self.__name=name\n",
        "obj=school(\"ravi\")\n",
        "print(obj._school__name)"
      ],
      "metadata": {
        "colab": {
          "base_uri": "https://localhost:8080/"
        },
        "id": "sNhImCZLEaBz",
        "outputId": "84bed522-1929-4686-fb9a-68e8ae3bd22e"
      },
      "execution_count": null,
      "outputs": [
        {
          "output_type": "stream",
          "name": "stdout",
          "text": [
            "ravi\n"
          ]
        }
      ]
    },
    {
      "cell_type": "markdown",
      "source": [
        "Question 49)Implementing the class Bank account"
      ],
      "metadata": {
        "id": "CCDwBdCyFHZp"
      }
    },
    {
      "cell_type": "code",
      "source": [
        "class BankAccount:\n",
        "  def __init__(self,balance):\n",
        "    self.__balance=balance\n",
        "  def deposit(self,amount):\n",
        "    self.__balance=self.__balance+amount\n",
        "    print(\"amount deposited successfully\")\n",
        "  def withdraw(self,amount):\n",
        "    if(amount>self.__balance):\n",
        "      print(\"insufficient balance\")\n",
        "    else:\n",
        "      self.__balance=self.__balance-amount\n",
        "      print(\"amount withdrawn successfully\")\n",
        "  def checkBalance(self):\n",
        "    return self.__balance\n",
        "a=BankAccount(20000)\n",
        "a.deposit(5000)\n",
        "a.withdraw(2000)\n",
        "a.checkBalance()\n"
      ],
      "metadata": {
        "colab": {
          "base_uri": "https://localhost:8080/"
        },
        "id": "LJjFiXlEFUvA",
        "outputId": "992f8312-7422-4227-e924-1b7d3f346f95"
      },
      "execution_count": null,
      "outputs": [
        {
          "output_type": "stream",
          "name": "stdout",
          "text": [
            "amount deposited successfully\n",
            "amount withdrawn successfully\n"
          ]
        },
        {
          "output_type": "execute_result",
          "data": {
            "text/plain": [
              "23000"
            ]
          },
          "metadata": {},
          "execution_count": 8
        }
      ]
    },
    {
      "cell_type": "markdown",
      "source": [
        "Question 50) Implementing person class"
      ],
      "metadata": {
        "id": "PfDYShP3Hmi-"
      }
    },
    {
      "cell_type": "code",
      "source": [
        "class person:\n",
        "  def __init__(self,name):\n",
        "    self.__name=name\n",
        "  def set_mail(self,email):\n",
        "    self.__email=email\n",
        "  def get_mail(self):\n",
        "    return self.__email\n",
        "a=person(\"Darshan R\")\n",
        "a.set_mail(\"darshanr974151@gmail.com\")\n",
        "a.get_mail()\n"
      ],
      "metadata": {
        "colab": {
          "base_uri": "https://localhost:8080/",
          "height": 36
        },
        "id": "0DvNtRI2IkP1",
        "outputId": "fbfee803-180a-4ff9-f8b0-f80f987aeb82"
      },
      "execution_count": null,
      "outputs": [
        {
          "output_type": "execute_result",
          "data": {
            "text/plain": [
              "'darshanr974151@gmail.com'"
            ],
            "application/vnd.google.colaboratory.intrinsic+json": {
              "type": "string"
            }
          },
          "metadata": {},
          "execution_count": 9
        }
      ]
    },
    {
      "cell_type": "markdown",
      "source": [
        "Question 51)Encapsulation is considered as the pillar of OOP because it can protect all the important data from hackers and maintains the privacy of the customers or make sure that very delicate information are not that easily available to everyone."
      ],
      "metadata": {
        "id": "rZyhFqKtJc2_"
      }
    },
    {
      "cell_type": "markdown",
      "source": [
        "Question 52)Simple decorator"
      ],
      "metadata": {
        "id": "qVqJHfhpKYK1"
      }
    },
    {
      "cell_type": "code",
      "source": [
        "def decorator(func):\n",
        "  def wrapper():\n",
        "    print(\"welcome to the function\")\n",
        "    func()\n",
        "    print(\"thanks for coming\")\n",
        "  return wrapper\n",
        "@decorator\n",
        "def House_warming():\n",
        "  print(\"Take a picture of our home \")\n",
        "House_warming()"
      ],
      "metadata": {
        "colab": {
          "base_uri": "https://localhost:8080/"
        },
        "id": "YiKqDaf0LJAg",
        "outputId": "b33041f9-b6aa-45d7-9ae0-b233d976691d"
      },
      "execution_count": null,
      "outputs": [
        {
          "output_type": "stream",
          "name": "stdout",
          "text": [
            "welcome to the function\n",
            "thanks for coming\n"
          ]
        }
      ]
    },
    {
      "cell_type": "markdown",
      "source": [
        "Question 53)Modifying the above operator"
      ],
      "metadata": {
        "id": "ugbVPVwcMQ5k"
      }
    },
    {
      "cell_type": "code",
      "source": [
        "def decorator(func):\n",
        "  def wrapper():\n",
        "    print(\"welcome to the function\")\n",
        "    func()\n",
        "    print(func.__name__)\n",
        "    print(\"thanks for coming\")\n",
        "  return wrapper\n",
        "@decorator\n",
        "def House_warming():\n",
        "  print(\"Take a picture of our home \")\n",
        "House_warming()"
      ],
      "metadata": {
        "colab": {
          "base_uri": "https://localhost:8080/"
        },
        "id": "SgHefpheNcJx",
        "outputId": "f42275d2-fc8e-4d6f-bcec-cefe744566d5"
      },
      "execution_count": null,
      "outputs": [
        {
          "output_type": "stream",
          "name": "stdout",
          "text": [
            "welcome to the function\n",
            "Take a picture of our home \n",
            "House_warming\n",
            "thanks for coming\n"
          ]
        }
      ]
    },
    {
      "cell_type": "markdown",
      "source": [
        "Question 54) applying 2 decorators to a single function"
      ],
      "metadata": {
        "id": "2fKi1qo1PCE4"
      }
    },
    {
      "cell_type": "code",
      "source": [
        "def decorator1(func):\n",
        "  def wrapper1():\n",
        "    print(\"this is decorator1\")\n",
        "    func()\n",
        "    print(\"decorator1 is coming to end\")\n",
        "  return wrapper1\n",
        "def decorator2(func):\n",
        "  def wrapper2():\n",
        "    print(\"this is decorator2\")\n",
        "    func()\n",
        "    print(\"decorator2 is coming to end\")\n",
        "  return wrapper2\n",
        "@decorator1\n",
        "@decorator2\n",
        "def hello():\n",
        "  print(\"good morning\")\n",
        "hello()\n",
        "print(decorator1.__doc__)\n",
        "print(decorator1.__name__)\n"
      ],
      "metadata": {
        "colab": {
          "base_uri": "https://localhost:8080/"
        },
        "id": "wdgReo-2PTf2",
        "outputId": "e0944466-c75a-4741-93a2-51965e2d7186"
      },
      "execution_count": null,
      "outputs": [
        {
          "output_type": "stream",
          "name": "stdout",
          "text": [
            "this is decorator1\n",
            "this is decorator2\n",
            "good morning\n",
            "decorator2 is coming to end\n",
            "decorator1 is coming to end\n",
            "None\n",
            "decorator1\n"
          ]
        }
      ]
    },
    {
      "cell_type": "markdown",
      "source": [
        "Question 55) modefying the above question"
      ],
      "metadata": {
        "id": "KpIsHX15QTqs"
      }
    },
    {
      "cell_type": "code",
      "source": [
        "def decorator1(func):\n",
        "  def wrapper1(*args,**kwargs):\n",
        "    print(\"this is decorator1\")\n",
        "    result=func(*args,**kwargs)\n",
        "    print(\"decorator1 is coming to end\")\n",
        "    return result\n",
        "  return wrapper1\n",
        "def decorator2(func):\n",
        "  def wrapper2(*args,**kwargs):\n",
        "    print(\"this is decorator2\")\n",
        "    result=func(*args,**kwargs)\n",
        "    print(\"decorator2 is coming to end\")\n",
        "    return result\n",
        "  return wrapper2\n",
        "@decorator1\n",
        "@decorator2\n",
        "def hello(a,b):\n",
        "  print(\"good morning\")\n",
        "  return a+b\n",
        "print(hello(1,2))\n"
      ],
      "metadata": {
        "colab": {
          "base_uri": "https://localhost:8080/"
        },
        "id": "iLHzQ-ZBTjPv",
        "outputId": "889ecdc2-71c5-4d7d-cdfb-f3ca69d665b6"
      },
      "execution_count": null,
      "outputs": [
        {
          "output_type": "stream",
          "name": "stdout",
          "text": [
            "this is decorator1\n",
            "this is decorator2\n",
            "good morning\n",
            "decorator2 is coming to end\n",
            "decorator1 is coming to end\n",
            "None\n"
          ]
        }
      ]
    },
    {
      "cell_type": "markdown",
      "source": [
        "Question 56) decorator that preserves the metadata of original function"
      ],
      "metadata": {
        "id": "X6QTAQXsbBVU"
      }
    },
    {
      "cell_type": "code",
      "source": [
        "import functools\n",
        "def decorator(func):\n",
        "  @functools.wraps(func)\n",
        "  def wrapper(*args,**kwargs):\n",
        "    print(\"before function\")\n",
        "    result=func(*args,**kwargs)\n",
        "    print(\"after function\")\n",
        "    return result\n",
        "  return wrapper\n",
        "@decorator\n",
        "def greet(a,b):\n",
        "  \"\"\"this is the doc string of this file\"\"\"\n",
        "  print(f\"function called with arguments : {a},{b}\")\n",
        "  return a+b\n",
        "greet(2,3)\n",
        "print(f\"function name: {greet.__name__}\")\n",
        "print(f\"document string: {greet.__doc__}\")\n",
        "\n"
      ],
      "metadata": {
        "id": "y6hJ1b0wbPob",
        "colab": {
          "base_uri": "https://localhost:8080/"
        },
        "outputId": "afddd2dd-6752-4aa9-831e-8a8dbd45e2c7"
      },
      "execution_count": null,
      "outputs": [
        {
          "output_type": "stream",
          "name": "stdout",
          "text": [
            "before function\n",
            "function called with arguments : 2,3\n",
            "after function\n",
            "function name: greet\n",
            "document string: this is the doc string of this file\n"
          ]
        }
      ]
    },
    {
      "cell_type": "markdown",
      "source": [
        "Question 57)calculator class with static method"
      ],
      "metadata": {
        "id": "oShEMlaYyDc2"
      }
    },
    {
      "cell_type": "code",
      "source": [
        "class Calculator:\n",
        "  @staticmethod\n",
        "  def add(a,b):\n",
        "    return a+b\n",
        "Calculator.add(2,3) #this methods can be be accessed without any object"
      ],
      "metadata": {
        "colab": {
          "base_uri": "https://localhost:8080/"
        },
        "id": "_o9N68jGyS0H",
        "outputId": "59a81f96-a562-4a8f-a8ac-b029cedb9bc5"
      },
      "execution_count": null,
      "outputs": [
        {
          "output_type": "execute_result",
          "data": {
            "text/plain": [
              "5"
            ]
          },
          "metadata": {},
          "execution_count": 11
        }
      ]
    },
    {
      "cell_type": "markdown",
      "source": [
        "Question 58) Python class Employee"
      ],
      "metadata": {
        "id": "9Qgfbbyjz4rs"
      }
    },
    {
      "cell_type": "code",
      "source": [
        "class Employee:\n",
        "  def __init__(self,count):\n",
        "    self.count=count\n",
        "  def get_employees(self):\n",
        "    return self.count\n",
        "e1=Employee(10)\n",
        "e1.get_employees()"
      ],
      "metadata": {
        "colab": {
          "base_uri": "https://localhost:8080/"
        },
        "id": "utXE9hicz-pu",
        "outputId": "aca059b3-b9b8-4dfa-cf5e-150b7cb76ce0"
      },
      "execution_count": null,
      "outputs": [
        {
          "output_type": "execute_result",
          "data": {
            "text/plain": [
              "10"
            ]
          },
          "metadata": {},
          "execution_count": 14
        }
      ]
    },
    {
      "cell_type": "markdown",
      "source": [
        "Question 59) Class string formatter"
      ],
      "metadata": {
        "id": "FQCpxSwi1g7d"
      }
    },
    {
      "cell_type": "code",
      "source": [
        "class Formatter:\n",
        "  @staticmethod\n",
        "  def reverse_string(s):\n",
        "    return s[::-1]\n",
        "Formatter.reverse_string(\"darshan\")"
      ],
      "metadata": {
        "colab": {
          "base_uri": "https://localhost:8080/",
          "height": 36
        },
        "id": "q7B9BLeq2A6m",
        "outputId": "285e4c88-d0e0-4d41-d8f2-92d169979064"
      },
      "execution_count": null,
      "outputs": [
        {
          "output_type": "execute_result",
          "data": {
            "text/plain": [
              "'nahsrad'"
            ],
            "application/vnd.google.colaboratory.intrinsic+json": {
              "type": "string"
            }
          },
          "metadata": {},
          "execution_count": 15
        }
      ]
    },
    {
      "cell_type": "markdown",
      "source": [
        "Question 60) class circle"
      ],
      "metadata": {
        "id": "mP_aEjaw2fC-"
      }
    },
    {
      "cell_type": "code",
      "source": [
        "class Circle:\n",
        "  def calculate_area(self,r):\n",
        "    return 3.14*(r**2)\n",
        "c1=Circle()\n",
        "c1.calculate_area(10)"
      ],
      "metadata": {
        "id": "Ud1a3NSL2k5C"
      },
      "execution_count": null,
      "outputs": []
    },
    {
      "cell_type": "markdown",
      "source": [
        "Question 61) TemperatureConerter class"
      ],
      "metadata": {
        "id": "Rag-pupYABWR"
      }
    },
    {
      "cell_type": "code",
      "source": [
        "class TemperatureConerter:\n",
        "  @staticmethod\n",
        "  def celcius_to_fahrenheit(celcius):\n",
        "    return 9/5*celcius+32\n",
        "TemperatureConerter.celcius_to_fahrenheit(-40)"
      ],
      "metadata": {
        "id": "1-a0WfcBAPMf",
        "colab": {
          "base_uri": "https://localhost:8080/"
        },
        "outputId": "9cc3d2dd-958a-40b3-dc41-0d592db9947a"
      },
      "execution_count": null,
      "outputs": [
        {
          "output_type": "execute_result",
          "data": {
            "text/plain": [
              "-40.0"
            ]
          },
          "metadata": {},
          "execution_count": 3
        }
      ]
    },
    {
      "cell_type": "markdown",
      "source": [
        "Question 62) use of __str__() method\n",
        "The python __str__ method returns the string representation of the object."
      ],
      "metadata": {
        "id": "hGqXLeT3F6Xw"
      }
    },
    {
      "cell_type": "code",
      "source": [
        "class Employee:\n",
        "    def __init__(self, name, age, id):\n",
        "        self.name = name\n",
        "        self.age = age\n",
        "        self.id = id\n",
        "    def __str__(self):\n",
        "        return f'Employee name is {self.name}, employee\\'s age is {self.age} and id is {self.id}'\n",
        "\n",
        "employeeObject = Employee('employeeName', 20, 1101)\n",
        "\n",
        "print(employeeObject)\n",
        "print(employeeObject.__str__())\n",
        "print(employeeObject.__repr__())\n"
      ],
      "metadata": {
        "colab": {
          "base_uri": "https://localhost:8080/"
        },
        "id": "OV3gHHsyGjkX",
        "outputId": "027dc8b8-a4a1-4d70-a999-6132012980d0"
      },
      "execution_count": null,
      "outputs": [
        {
          "output_type": "stream",
          "name": "stdout",
          "text": [
            "Employee name is employeeName, employee's age is 20 and id is 1101\n",
            "Employee name is employeeName, employee's age is 20 and id is 1101\n",
            "<__main__.Employee object at 0x7b4b16f4ec80>\n"
          ]
        }
      ]
    },
    {
      "cell_type": "markdown",
      "source": [
        "Question 63) how does len() method work in python: This method is also known as magic method which is used to find the length of object defined inside the class"
      ],
      "metadata": {
        "id": "H1Qeyo5AHngP"
      }
    },
    {
      "cell_type": "code",
      "source": [
        "class length:\n",
        "  def __init__(self,a):\n",
        "    self.a=a\n",
        "  def __len__(self):\n",
        "    return len(self.a)\n",
        "b=length(\"darshan\")\n",
        "len(b)"
      ],
      "metadata": {
        "colab": {
          "base_uri": "https://localhost:8080/"
        },
        "id": "NzBPSYfOIp7E",
        "outputId": "6982bce6-3087-4ba2-f395-4054c4f49935"
      },
      "execution_count": null,
      "outputs": [
        {
          "output_type": "execute_result",
          "data": {
            "text/plain": [
              "7"
            ]
          },
          "metadata": {},
          "execution_count": 9
        }
      ]
    },
    {
      "cell_type": "markdown",
      "source": [
        "Question 64) How does __add__() method work in python:-this method is also comes under magic methods which is used to add to object which behaves differently with diff datat type"
      ],
      "metadata": {
        "id": "5S2m0yjoJ0Ju"
      }
    },
    {
      "cell_type": "code",
      "source": [
        "class sum:\n",
        "  def __init__(self,a):\n",
        "    self.a=a\n",
        "  def __add__(self,b):\n",
        "    return self.a+b\n",
        "x=sum(2)\n",
        "print(x+3)\n",
        "x=sum('hi')\n",
        "print(x+\" folks\")"
      ],
      "metadata": {
        "colab": {
          "base_uri": "https://localhost:8080/"
        },
        "id": "-MAMlACZKQmN",
        "outputId": "83c4b8bd-a883-485e-b559-10f46c09508e"
      },
      "execution_count": null,
      "outputs": [
        {
          "output_type": "stream",
          "name": "stdout",
          "text": [
            "5\n",
            "hi folks\n"
          ]
        }
      ]
    },
    {
      "cell_type": "markdown",
      "source": [
        "Question 67)Getter methods are used to access private attributes"
      ],
      "metadata": {
        "id": "V7iCKNvAL-UN"
      }
    },
    {
      "cell_type": "code",
      "source": [
        "class item:\n",
        "  def __init__(self,name,price):\n",
        "    self.__name=name\n",
        "    self.__price=price\n",
        "  @property\n",
        "  def price_access(self):#getter method\n",
        "    return self.__price\n",
        "item1=item(\"doll\",200)\n",
        "item1.price_access"
      ],
      "metadata": {
        "colab": {
          "base_uri": "https://localhost:8080/"
        },
        "id": "yNNSI4hyN4D9",
        "outputId": "a6635b7a-4487-4fb9-bcfc-182a95e39dfd"
      },
      "execution_count": null,
      "outputs": [
        {
          "output_type": "execute_result",
          "data": {
            "text/plain": [
              "200"
            ]
          },
          "metadata": {},
          "execution_count": 17
        }
      ]
    },
    {
      "cell_type": "markdown",
      "source": [
        "Question 68)setter methods are used to set values of private attributes"
      ],
      "metadata": {
        "id": "MYaHYhkBOqET"
      }
    },
    {
      "cell_type": "code",
      "source": [
        "\n",
        "class Item:\n",
        "    def __init__(self, name, price):\n",
        "        self.__name = name\n",
        "        self.__price = price\n",
        "\n",
        "    @property\n",
        "    def price_access(self):  # Getter method\n",
        "        return self.__price\n",
        "\n",
        "    @price_access.setter\n",
        "    def price_access(self, price):  # Setter method\n",
        "        self.__price = price\n",
        "\n",
        "item1 = Item(\"doll\", 200)\n",
        "print(item1.price_access)\n",
        "\n",
        "item1.price_access = 300\n",
        "print(item1.price_access)\n"
      ],
      "metadata": {
        "colab": {
          "base_uri": "https://localhost:8080/"
        },
        "id": "Zr4HH0UQPNC_",
        "outputId": "98e94f7b-20a7-4c53-a84e-3cebe5f0a2a4"
      },
      "execution_count": null,
      "outputs": [
        {
          "output_type": "stream",
          "name": "stdout",
          "text": [
            "200\n",
            "300\n"
          ]
        }
      ]
    },
    {
      "cell_type": "markdown",
      "source": [
        "Question 69)The use of @property decorator in python is that it allows methods to be accessed as attributes example is given in above code"
      ],
      "metadata": {
        "id": "ycIbL9urSJ1I"
      }
    },
    {
      "cell_type": "markdown",
      "source": [
        "Question 70) @deleter decorator is used to delete particular attribute"
      ],
      "metadata": {
        "id": "tVtvYPLkSj6M"
      }
    },
    {
      "cell_type": "code",
      "source": [
        "class Item:\n",
        "    def __init__(self, name, price):\n",
        "        self.__name = name\n",
        "        self.__price = price\n",
        "\n",
        "    @property\n",
        "    def price_access(self):  # Getter method\n",
        "        return self.__price\n",
        "\n",
        "    @price_access.setter\n",
        "    def price_access(self, price):  # Setter method\n",
        "        self.__price = price\n",
        "    @price_access.deleter\n",
        "    def price_access(self):\n",
        "      del self.__price\n",
        "item1=Item(\"doll\",200)\n",
        "# item1.price_access=300\n",
        "# item1.price_access\n",
        "item1.price_access\n",
        "item1.price_access"
      ],
      "metadata": {
        "colab": {
          "base_uri": "https://localhost:8080/"
        },
        "id": "7c6EWbPkS1m1",
        "outputId": "0e7f4d07-908e-4c49-cf6a-0161a20d25d4"
      },
      "execution_count": null,
      "outputs": [
        {
          "output_type": "execute_result",
          "data": {
            "text/plain": [
              "200"
            ]
          },
          "metadata": {},
          "execution_count": 39
        }
      ]
    },
    {
      "cell_type": "markdown",
      "source": [
        "Question 71)"
      ],
      "metadata": {
        "id": "WzNVvhNaXowL"
      }
    }
  ]
}